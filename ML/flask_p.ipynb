{
 "cells": [
  {
   "cell_type": "code",
   "execution_count": 2,
   "id": "b0fda239",
   "metadata": {},
   "outputs": [
    {
     "name": "stdout",
     "output_type": "stream",
     "text": [
      "Requirement already satisfied: flask in c:\\new folder\\lib\\site-packages (2.0.3)\n",
      "Requirement already satisfied: Werkzeug>=2.0 in c:\\new folder\\lib\\site-packages (from flask) (2.0.3)\n",
      "Requirement already satisfied: Jinja2>=3.0 in c:\\new folder\\lib\\site-packages (from flask) (3.0.3)\n",
      "Requirement already satisfied: itsdangerous>=2.0 in c:\\new folder\\lib\\site-packages (from flask) (2.1.0)\n",
      "Requirement already satisfied: click>=7.1.2 in c:\\new folder\\lib\\site-packages (from flask) (8.0.4)\n",
      "Requirement already satisfied: colorama in c:\\new folder\\lib\\site-packages (from click>=7.1.2->flask) (0.4.6)\n",
      "Requirement already satisfied: MarkupSafe>=2.0 in c:\\new folder\\lib\\site-packages (from Jinja2>=3.0->flask) (2.1.0)\n",
      "Collecting flask_cors\n",
      "  Obtaining dependency information for flask_cors from https://files.pythonhosted.org/packages/10/69/1e6cfb87117568a9de088c32d6258219e9d1ff7c131abf74249ef2031279/Flask_Cors-4.0.0-py2.py3-none-any.whl.metadata\n",
      "  Downloading Flask_Cors-4.0.0-py2.py3-none-any.whl.metadata (5.4 kB)\n",
      "Requirement already satisfied: Flask>=0.9 in c:\\new folder\\lib\\site-packages (from flask_cors) (2.0.3)\n",
      "Requirement already satisfied: Werkzeug>=2.0 in c:\\new folder\\lib\\site-packages (from Flask>=0.9->flask_cors) (2.0.3)\n",
      "Requirement already satisfied: Jinja2>=3.0 in c:\\new folder\\lib\\site-packages (from Flask>=0.9->flask_cors) (3.0.3)\n",
      "Requirement already satisfied: itsdangerous>=2.0 in c:\\new folder\\lib\\site-packages (from Flask>=0.9->flask_cors) (2.1.0)\n",
      "Requirement already satisfied: click>=7.1.2 in c:\\new folder\\lib\\site-packages (from Flask>=0.9->flask_cors) (8.0.4)\n",
      "Requirement already satisfied: colorama in c:\\new folder\\lib\\site-packages (from click>=7.1.2->Flask>=0.9->flask_cors) (0.4.6)\n",
      "Requirement already satisfied: MarkupSafe>=2.0 in c:\\new folder\\lib\\site-packages (from Jinja2>=3.0->Flask>=0.9->flask_cors) (2.1.0)\n",
      "Using cached Flask_Cors-4.0.0-py2.py3-none-any.whl (14 kB)\n",
      "Installing collected packages: flask_cors\n",
      "Successfully installed flask_cors-4.0.0\n"
     ]
    }
   ],
   "source": [
    "!pip install flask\n",
    "!pip install flask_cors"
   ]
  },
  {
   "cell_type": "code",
   "execution_count": null,
   "id": "b184f5d8",
   "metadata": {
    "scrolled": true
   },
   "outputs": [
    {
     "name": "stdout",
     "output_type": "stream",
     "text": [
      " * Serving Flask app '__main__' (lazy loading)\n",
      " * Environment: production\n",
      "\u001b[31m   WARNING: This is a development server. Do not use it in a production deployment.\u001b[0m\n",
      "\u001b[2m   Use a production WSGI server instead.\u001b[0m\n",
      " * Debug mode: on\n"
     ]
    },
    {
     "name": "stderr",
     "output_type": "stream",
     "text": [
      " * Running on http://127.0.0.1:5000/ (Press CTRL+C to quit)\n"
     ]
    },
    {
     "name": "stdout",
     "output_type": "stream",
     "text": [
      "{'PM25': '80.7', 'PM10': '30.2', 'NO': '1.42', 'NO2': '21.90', 'NOx': '20.65', 'NH3': '2.32', 'CO': '1.42', 'SO2': '32.26', 'O3': '46.71', 'Benzene': '0.00', 'Toluene': '0.0', 'Xylene': '2.07', 'city': 'Aizawl'}\n",
      "   PM25  PM10    NO    NO2    NOx   NH3    CO    SO2     O3 Benzene Toluene  \\\n",
      "0  80.7  30.2  1.42  21.90  20.65  2.32  1.42  32.26  46.71    0.00     0.0   \n",
      "\n",
      "  Xylene    city  \n",
      "0   2.07  Aizawl  \n"
     ]
    },
    {
     "name": "stderr",
     "output_type": "stream",
     "text": [
      "127.0.0.1 - - [01/Sep/2023 15:56:19] \"POST /predict HTTP/1.1\" 200 -\n"
     ]
    },
    {
     "name": "stdout",
     "output_type": "stream",
     "text": [
      "Aqi value is this 119.89519701637045\n"
     ]
    },
    {
     "name": "stderr",
     "output_type": "stream",
     "text": [
      "127.0.0.1 - - [01/Sep/2023 15:56:42] \"OPTIONS /predict HTTP/1.1\" 200 -\n",
      "127.0.0.1 - - [01/Sep/2023 15:56:42] \"POST /predict HTTP/1.1\" 200 -\n"
     ]
    },
    {
     "name": "stdout",
     "output_type": "stream",
     "text": [
      "{'city': 'Bengaluru', 'PM25': '495', 'PM10': '33', 'NO': '23', 'NO2': '33', 'NOx': '12', 'NH3': '33', 'CO': '33', 'SO2': '33', 'O3': '2', 'Benzene': '88', 'Toluene': '2', 'Xylene': '87'}\n",
      "        city PM25 PM10  NO NO2 NOx NH3  CO SO2 O3 Benzene Toluene Xylene\n",
      "0  Bengaluru  495   33  23  33  12  33  33  33  2      88       2     87\n",
      "Aqi value is this 452.9155324419937\n"
     ]
    },
    {
     "name": "stderr",
     "output_type": "stream",
     "text": [
      "127.0.0.1 - - [01/Sep/2023 16:06:55] \"OPTIONS /predict HTTP/1.1\" 200 -\n",
      "127.0.0.1 - - [01/Sep/2023 16:06:55] \"POST /predict HTTP/1.1\" 200 -\n"
     ]
    },
    {
     "name": "stdout",
     "output_type": "stream",
     "text": [
      "{'city': 'Amaravati', 'PM25': '28', 'PM10': '33', 'NO': '28', 'NO2': '33', 'NOx': '33', 'NH3': '33', 'CO': '33', 'SO2': '33', 'O3': '28', 'Benzene': '88', 'Toluene': '999', 'Xylene': '87'}\n",
      "        city PM25 PM10  NO NO2 NOx NH3  CO SO2  O3 Benzene Toluene Xylene\n",
      "0  Amaravati   28   33  28  33  33  33  33  33  28      88     999     87\n",
      "Aqi value is this 375.8889778930381\n"
     ]
    },
    {
     "name": "stderr",
     "output_type": "stream",
     "text": [
      "127.0.0.1 - - [01/Sep/2023 16:08:21] \"OPTIONS /predict HTTP/1.1\" 200 -\n",
      "127.0.0.1 - - [01/Sep/2023 16:08:21] \"POST /predict HTTP/1.1\" 200 -\n"
     ]
    },
    {
     "name": "stdout",
     "output_type": "stream",
     "text": [
      "{'city': 'Amaravati', 'PM25': '28', 'PM10': '33', 'NO': '28', 'NO2': '33', 'NOx': '33', 'NH3': '33', 'CO': '33', 'SO2': '33', 'O3': '28', 'Benzene': '88', 'Toluene': '999', 'Xylene': '87'}\n",
      "        city PM25 PM10  NO NO2 NOx NH3  CO SO2  O3 Benzene Toluene Xylene\n",
      "0  Amaravati   28   33  28  33  33  33  33  33  28      88     999     87\n",
      "Aqi value is this 375.8889778930381\n"
     ]
    },
    {
     "name": "stderr",
     "output_type": "stream",
     "text": [
      "127.0.0.1 - - [01/Sep/2023 16:14:14] \"OPTIONS /predict HTTP/1.1\" 200 -\n",
      "127.0.0.1 - - [01/Sep/2023 16:14:14] \"POST /predict HTTP/1.1\" 200 -\n"
     ]
    },
    {
     "name": "stdout",
     "output_type": "stream",
     "text": [
      "{'city': 'Ahmedabad', 'PM25': '495', 'PM10': '33', 'NO': '33', 'NO2': '33', 'NOx': '33', 'NH3': '33', 'CO': '34', 'SO2': '33', 'O3': '28', 'Benzene': '88', 'Toluene': '999', 'Xylene': '87'}\n",
      "        city PM25 PM10  NO NO2 NOx NH3  CO SO2  O3 Benzene Toluene Xylene\n",
      "0  Ahmedabad  495   33  33  33  33  33  34  33  28      88     999     87\n",
      "Aqi value is this 430.73409329792497\n"
     ]
    },
    {
     "name": "stderr",
     "output_type": "stream",
     "text": [
      "127.0.0.1 - - [01/Sep/2023 16:22:38] \"OPTIONS /predict HTTP/1.1\" 200 -\n",
      "127.0.0.1 - - [01/Sep/2023 16:22:38] \"POST /predict HTTP/1.1\" 200 -\n"
     ]
    },
    {
     "name": "stdout",
     "output_type": "stream",
     "text": [
      "{'city': 'Ahmedabad', 'PM25': '495', 'PM10': '33', 'NO': '23', 'NO2': '33', 'NOx': '33', 'NH3': '33', 'CO': '33', 'SO2': '22', 'O3': '28', 'Benzene': '88', 'Toluene': '999', 'Xylene': '87'}\n",
      "        city PM25 PM10  NO NO2 NOx NH3  CO SO2  O3 Benzene Toluene Xylene\n",
      "0  Ahmedabad  495   33  23  33  33  33  33  22  28      88     999     87\n",
      "Aqi value is this 420.6250624608715\n"
     ]
    },
    {
     "name": "stderr",
     "output_type": "stream",
     "text": [
      "127.0.0.1 - - [01/Sep/2023 16:22:40] \"POST /predict HTTP/1.1\" 200 -\n"
     ]
    },
    {
     "name": "stdout",
     "output_type": "stream",
     "text": [
      "{'city': 'Ahmedabad', 'PM25': '495', 'PM10': '33', 'NO': '23', 'NO2': '33', 'NOx': '33', 'NH3': '33', 'CO': '33', 'SO2': '22', 'O3': '28', 'Benzene': '88', 'Toluene': '999', 'Xylene': '87'}\n",
      "        city PM25 PM10  NO NO2 NOx NH3  CO SO2  O3 Benzene Toluene Xylene\n",
      "0  Ahmedabad  495   33  23  33  33  33  33  22  28      88     999     87\n",
      "Aqi value is this 420.6250624608715\n"
     ]
    },
    {
     "name": "stderr",
     "output_type": "stream",
     "text": [
      "127.0.0.1 - - [01/Sep/2023 16:22:41] \"POST /predict HTTP/1.1\" 200 -\n"
     ]
    },
    {
     "name": "stdout",
     "output_type": "stream",
     "text": [
      "{'city': 'Ahmedabad', 'PM25': '495', 'PM10': '33', 'NO': '23', 'NO2': '33', 'NOx': '33', 'NH3': '33', 'CO': '33', 'SO2': '22', 'O3': '28', 'Benzene': '88', 'Toluene': '999', 'Xylene': '87'}\n",
      "        city PM25 PM10  NO NO2 NOx NH3  CO SO2  O3 Benzene Toluene Xylene\n",
      "0  Ahmedabad  495   33  23  33  33  33  33  22  28      88     999     87\n",
      "Aqi value is this 420.6250624608715\n"
     ]
    },
    {
     "name": "stderr",
     "output_type": "stream",
     "text": [
      "127.0.0.1 - - [01/Sep/2023 16:24:15] \"OPTIONS /predict HTTP/1.1\" 200 -\n",
      "127.0.0.1 - - [01/Sep/2023 16:24:16] \"POST /predict HTTP/1.1\" 200 -\n"
     ]
    },
    {
     "name": "stdout",
     "output_type": "stream",
     "text": [
      "{'city': 'Amaravati', 'PM25': '495', 'PM10': '33', 'NO': '2', 'NO2': '33', 'NOx': '33', 'NH3': '33', 'CO': '33', 'SO2': '22', 'O3': '2', 'Benzene': '88', 'Toluene': '999', 'Xylene': '2'}\n",
      "        city PM25 PM10 NO NO2 NOx NH3  CO SO2 O3 Benzene Toluene Xylene\n",
      "0  Amaravati  495   33  2  33  33  33  33  22  2      88     999      2\n",
      "Aqi value is this 407.5523253059922\n"
     ]
    },
    {
     "name": "stderr",
     "output_type": "stream",
     "text": [
      "127.0.0.1 - - [01/Sep/2023 16:24:38] \"OPTIONS /predict HTTP/1.1\" 200 -\n",
      "127.0.0.1 - - [01/Sep/2023 16:24:38] \"POST /predict HTTP/1.1\" 200 -\n"
     ]
    },
    {
     "name": "stdout",
     "output_type": "stream",
     "text": [
      "{'city': 'Amaravati', 'PM25': '495', 'PM10': '33', 'NO': '2', 'NO2': '33', 'NOx': '33', 'NH3': '33', 'CO': '33', 'SO2': '22', 'O3': '2', 'Benzene': '88', 'Toluene': '999', 'Xylene': '2'}\n",
      "        city PM25 PM10 NO NO2 NOx NH3  CO SO2 O3 Benzene Toluene Xylene\n",
      "0  Amaravati  495   33  2  33  33  33  33  22  2      88     999      2\n",
      "Aqi value is this 407.5523253059922\n"
     ]
    },
    {
     "name": "stderr",
     "output_type": "stream",
     "text": [
      "127.0.0.1 - - [01/Sep/2023 16:30:29] \"OPTIONS /predict HTTP/1.1\" 200 -\n",
      "127.0.0.1 - - [01/Sep/2023 16:30:29] \"POST /predict HTTP/1.1\" 200 -\n"
     ]
    },
    {
     "name": "stdout",
     "output_type": "stream",
     "text": [
      "{'city': 'Amaravati', 'PM25': '495', 'PM10': '33', 'NO': '2', 'NO2': '33', 'NOx': '33', 'NH3': '33', 'CO': '34', 'SO2': '22', 'O3': '28', 'Benzene': '88', 'Toluene': '999', 'Xylene': '87'}\n",
      "        city PM25 PM10 NO NO2 NOx NH3  CO SO2  O3 Benzene Toluene Xylene\n",
      "0  Amaravati  495   33  2  33  33  33  34  22  28      88     999     87\n",
      "Aqi value is this 376.8507295470159\n"
     ]
    },
    {
     "name": "stderr",
     "output_type": "stream",
     "text": [
      "127.0.0.1 - - [01/Sep/2023 16:32:19] \"OPTIONS /predict HTTP/1.1\" 200 -\n",
      "127.0.0.1 - - [01/Sep/2023 16:32:19] \"POST /predict HTTP/1.1\" 200 -\n"
     ]
    },
    {
     "name": "stdout",
     "output_type": "stream",
     "text": [
      "{'city': 'Amaravati', 'PM25': '495', 'PM10': '33', 'NO': '2', 'NO2': '33', 'NOx': '33', 'NH3': '33', 'CO': '34', 'SO2': '22', 'O3': '28', 'Benzene': '88', 'Toluene': '999', 'Xylene': '87'}\n",
      "        city PM25 PM10 NO NO2 NOx NH3  CO SO2  O3 Benzene Toluene Xylene\n",
      "0  Amaravati  495   33  2  33  33  33  34  22  28      88     999     87\n",
      "Aqi value is this 376.8507295470159\n"
     ]
    },
    {
     "name": "stderr",
     "output_type": "stream",
     "text": [
      "127.0.0.1 - - [01/Sep/2023 16:33:28] \"OPTIONS /predict HTTP/1.1\" 200 -\n",
      "127.0.0.1 - - [01/Sep/2023 16:33:28] \"POST /predict HTTP/1.1\" 200 -\n"
     ]
    },
    {
     "name": "stdout",
     "output_type": "stream",
     "text": [
      "{'city': 'Amaravati', 'PM25': '495', 'PM10': '33', 'NO': '2', 'NO2': '33', 'NOx': '33', 'NH3': '33', 'CO': '34', 'SO2': '22', 'O3': '28', 'Benzene': '88', 'Toluene': '999', 'Xylene': '87'}\n",
      "        city PM25 PM10 NO NO2 NOx NH3  CO SO2  O3 Benzene Toluene Xylene\n",
      "0  Amaravati  495   33  2  33  33  33  34  22  28      88     999     87\n",
      "Aqi value is this 376.8507295470159\n"
     ]
    },
    {
     "name": "stderr",
     "output_type": "stream",
     "text": [
      "127.0.0.1 - - [01/Sep/2023 16:34:12] \"OPTIONS /predict HTTP/1.1\" 200 -\n",
      "127.0.0.1 - - [01/Sep/2023 16:34:12] \"POST /predict HTTP/1.1\" 200 -\n"
     ]
    },
    {
     "name": "stdout",
     "output_type": "stream",
     "text": [
      "{'city': 'Amaravati', 'PM25': '495', 'PM10': '33', 'NO': '2', 'NO2': '33', 'NOx': '33', 'NH3': '33', 'CO': '34', 'SO2': '22', 'O3': '28', 'Benzene': '88', 'Toluene': '999', 'Xylene': '87'}\n",
      "        city PM25 PM10 NO NO2 NOx NH3  CO SO2  O3 Benzene Toluene Xylene\n",
      "0  Amaravati  495   33  2  33  33  33  34  22  28      88     999     87\n",
      "Aqi value is this 376.8507295470159\n"
     ]
    },
    {
     "name": "stderr",
     "output_type": "stream",
     "text": [
      "127.0.0.1 - - [01/Sep/2023 16:34:42] \"OPTIONS /predict HTTP/1.1\" 200 -\n",
      "127.0.0.1 - - [01/Sep/2023 16:34:42] \"POST /predict HTTP/1.1\" 200 -\n"
     ]
    },
    {
     "name": "stdout",
     "output_type": "stream",
     "text": [
      "{'city': 'Amaravati', 'PM25': '495', 'PM10': '33', 'NO': '2', 'NO2': '33', 'NOx': '33', 'NH3': '33', 'CO': '34', 'SO2': '22', 'O3': '28', 'Benzene': '88', 'Toluene': '999', 'Xylene': '87'}\n",
      "        city PM25 PM10 NO NO2 NOx NH3  CO SO2  O3 Benzene Toluene Xylene\n",
      "0  Amaravati  495   33  2  33  33  33  34  22  28      88     999     87\n",
      "Aqi value is this 376.8507295470159\n"
     ]
    },
    {
     "name": "stderr",
     "output_type": "stream",
     "text": [
      "127.0.0.1 - - [01/Sep/2023 16:35:21] \"OPTIONS /predict HTTP/1.1\" 200 -\n",
      "127.0.0.1 - - [01/Sep/2023 16:35:21] \"POST /predict HTTP/1.1\" 200 -\n"
     ]
    },
    {
     "name": "stdout",
     "output_type": "stream",
     "text": [
      "{'city': 'Amaravati', 'PM25': '495', 'PM10': '33', 'NO': '2', 'NO2': '33', 'NOx': '33', 'NH3': '33', 'CO': '34', 'SO2': '22', 'O3': '28', 'Benzene': '88', 'Toluene': '999', 'Xylene': '87'}\n",
      "        city PM25 PM10 NO NO2 NOx NH3  CO SO2  O3 Benzene Toluene Xylene\n",
      "0  Amaravati  495   33  2  33  33  33  34  22  28      88     999     87\n",
      "Aqi value is this 376.8507295470159\n"
     ]
    },
    {
     "name": "stderr",
     "output_type": "stream",
     "text": [
      "127.0.0.1 - - [01/Sep/2023 16:39:37] \"OPTIONS /predict HTTP/1.1\" 200 -\n",
      "127.0.0.1 - - [01/Sep/2023 16:39:37] \"POST /predict HTTP/1.1\" 200 -\n"
     ]
    },
    {
     "name": "stdout",
     "output_type": "stream",
     "text": [
      "{'city': 'Amaravati', 'PM25': '495', 'PM10': '33', 'NO': '2', 'NO2': '33', 'NOx': '33', 'NH3': '33', 'CO': '34', 'SO2': '22', 'O3': '28', 'Benzene': '88', 'Toluene': '999', 'Xylene': '87'}\n",
      "        city PM25 PM10 NO NO2 NOx NH3  CO SO2  O3 Benzene Toluene Xylene\n",
      "0  Amaravati  495   33  2  33  33  33  34  22  28      88     999     87\n",
      "Aqi value is this 376.8507295470159\n"
     ]
    },
    {
     "name": "stderr",
     "output_type": "stream",
     "text": [
      "127.0.0.1 - - [01/Sep/2023 16:41:01] \"OPTIONS /predict HTTP/1.1\" 200 -\n",
      "127.0.0.1 - - [01/Sep/2023 16:41:01] \"POST /predict HTTP/1.1\" 200 -\n"
     ]
    },
    {
     "name": "stdout",
     "output_type": "stream",
     "text": [
      "{'city': 'Amaravati', 'PM25': '495', 'PM10': '33', 'NO': '2', 'NO2': '33', 'NOx': '33', 'NH3': '33', 'CO': '34', 'SO2': '22', 'O3': '28', 'Benzene': '88', 'Toluene': '999', 'Xylene': '87'}\n",
      "        city PM25 PM10 NO NO2 NOx NH3  CO SO2  O3 Benzene Toluene Xylene\n",
      "0  Amaravati  495   33  2  33  33  33  34  22  28      88     999     87\n",
      "Aqi value is this 376.8507295470159\n"
     ]
    },
    {
     "name": "stderr",
     "output_type": "stream",
     "text": [
      "127.0.0.1 - - [01/Sep/2023 16:41:36] \"OPTIONS /predict HTTP/1.1\" 200 -\n",
      "127.0.0.1 - - [01/Sep/2023 16:41:36] \"POST /predict HTTP/1.1\" 200 -\n"
     ]
    },
    {
     "name": "stdout",
     "output_type": "stream",
     "text": [
      "{'city': 'Amaravati', 'PM25': '495', 'PM10': '33', 'NO': '2', 'NO2': '33', 'NOx': '33', 'NH3': '33', 'CO': '34', 'SO2': '22', 'O3': '28', 'Benzene': '88', 'Toluene': '999', 'Xylene': '87'}\n",
      "        city PM25 PM10 NO NO2 NOx NH3  CO SO2  O3 Benzene Toluene Xylene\n",
      "0  Amaravati  495   33  2  33  33  33  34  22  28      88     999     87\n",
      "Aqi value is this 376.8507295470159\n"
     ]
    },
    {
     "name": "stderr",
     "output_type": "stream",
     "text": [
      "127.0.0.1 - - [01/Sep/2023 16:41:42] \"OPTIONS /predict HTTP/1.1\" 200 -\n",
      "127.0.0.1 - - [01/Sep/2023 16:41:42] \"POST /predict HTTP/1.1\" 200 -\n"
     ]
    },
    {
     "name": "stdout",
     "output_type": "stream",
     "text": [
      "{'city': 'Amaravati', 'PM25': '495', 'PM10': '33', 'NO': '2', 'NO2': '33', 'NOx': '33', 'NH3': '33', 'CO': '34', 'SO2': '22', 'O3': '28', 'Benzene': '88', 'Toluene': '999', 'Xylene': '87'}\n",
      "        city PM25 PM10 NO NO2 NOx NH3  CO SO2  O3 Benzene Toluene Xylene\n",
      "0  Amaravati  495   33  2  33  33  33  34  22  28      88     999     87\n",
      "Aqi value is this 376.8507295470159\n"
     ]
    },
    {
     "name": "stderr",
     "output_type": "stream",
     "text": [
      "127.0.0.1 - - [01/Sep/2023 16:44:29] \"OPTIONS /predict HTTP/1.1\" 200 -\n",
      "127.0.0.1 - - [01/Sep/2023 16:44:29] \"POST /predict HTTP/1.1\" 200 -\n"
     ]
    },
    {
     "name": "stdout",
     "output_type": "stream",
     "text": [
      "{'city': 'Amaravati', 'PM25': '495', 'PM10': '33', 'NO': '2', 'NO2': '33', 'NOx': '33', 'NH3': '33', 'CO': '34', 'SO2': '22', 'O3': '28', 'Benzene': '88', 'Toluene': '999', 'Xylene': '87'}\n",
      "        city PM25 PM10 NO NO2 NOx NH3  CO SO2  O3 Benzene Toluene Xylene\n",
      "0  Amaravati  495   33  2  33  33  33  34  22  28      88     999     87\n",
      "Aqi value is this 376.8507295470159\n"
     ]
    },
    {
     "name": "stderr",
     "output_type": "stream",
     "text": [
      "127.0.0.1 - - [01/Sep/2023 17:10:34] \"OPTIONS /predict HTTP/1.1\" 200 -\n",
      "127.0.0.1 - - [01/Sep/2023 17:10:34] \"POST /predict HTTP/1.1\" 200 -\n"
     ]
    },
    {
     "name": "stdout",
     "output_type": "stream",
     "text": [
      "{'city': 'Amaravati', 'PM25': '495', 'PM10': '33', 'NO': '2', 'NO2': '33', 'NOx': '33', 'NH3': '33', 'CO': '34', 'SO2': '22', 'O3': '28', 'Benzene': '88', 'Toluene': '999', 'Xylene': '87'}\n",
      "        city PM25 PM10 NO NO2 NOx NH3  CO SO2  O3 Benzene Toluene Xylene\n",
      "0  Amaravati  495   33  2  33  33  33  34  22  28      88     999     87\n",
      "Aqi value is this 376.8507295470159\n"
     ]
    },
    {
     "name": "stderr",
     "output_type": "stream",
     "text": [
      "127.0.0.1 - - [01/Sep/2023 17:13:07] \"OPTIONS /predict HTTP/1.1\" 200 -\n",
      "127.0.0.1 - - [01/Sep/2023 17:13:07] \"POST /predict HTTP/1.1\" 200 -\n"
     ]
    },
    {
     "name": "stdout",
     "output_type": "stream",
     "text": [
      "{'city': 'Amaravati', 'PM25': '495', 'PM10': '33', 'NO': '2', 'NO2': '33', 'NOx': '33', 'NH3': '33', 'CO': '34', 'SO2': '22', 'O3': '28', 'Benzene': '88', 'Toluene': '999', 'Xylene': '87'}\n",
      "        city PM25 PM10 NO NO2 NOx NH3  CO SO2  O3 Benzene Toluene Xylene\n",
      "0  Amaravati  495   33  2  33  33  33  34  22  28      88     999     87\n",
      "Aqi value is this 376.8507295470159\n"
     ]
    },
    {
     "name": "stderr",
     "output_type": "stream",
     "text": [
      "127.0.0.1 - - [01/Sep/2023 17:15:36] \"OPTIONS /predict HTTP/1.1\" 200 -\n",
      "127.0.0.1 - - [01/Sep/2023 17:15:36] \"POST /predict HTTP/1.1\" 200 -\n"
     ]
    },
    {
     "name": "stdout",
     "output_type": "stream",
     "text": [
      "{'city': 'Amaravati', 'PM25': '495', 'PM10': '33', 'NO': '2', 'NO2': '33', 'NOx': '33', 'NH3': '33', 'CO': '34', 'SO2': '22', 'O3': '28', 'Benzene': '88', 'Toluene': '999', 'Xylene': '87'}\n",
      "        city PM25 PM10 NO NO2 NOx NH3  CO SO2  O3 Benzene Toluene Xylene\n",
      "0  Amaravati  495   33  2  33  33  33  34  22  28      88     999     87\n",
      "Aqi value is this 376.8507295470159\n"
     ]
    },
    {
     "name": "stderr",
     "output_type": "stream",
     "text": [
      "127.0.0.1 - - [01/Sep/2023 17:23:41] \"OPTIONS /predict HTTP/1.1\" 200 -\n",
      "127.0.0.1 - - [01/Sep/2023 17:23:41] \"POST /predict HTTP/1.1\" 200 -\n"
     ]
    },
    {
     "name": "stdout",
     "output_type": "stream",
     "text": [
      "{'city': 'Amaravati', 'PM25': '495', 'PM10': '33', 'NO': '2', 'NO2': '33', 'NOx': '33', 'NH3': '33', 'CO': '34', 'SO2': '22', 'O3': '28', 'Benzene': '88', 'Toluene': '999', 'Xylene': '87'}\n",
      "        city PM25 PM10 NO NO2 NOx NH3  CO SO2  O3 Benzene Toluene Xylene\n",
      "0  Amaravati  495   33  2  33  33  33  34  22  28      88     999     87\n",
      "Aqi value is this 376.8507295470159\n"
     ]
    },
    {
     "name": "stderr",
     "output_type": "stream",
     "text": [
      "127.0.0.1 - - [01/Sep/2023 17:27:41] \"OPTIONS /predict HTTP/1.1\" 200 -\n",
      "127.0.0.1 - - [01/Sep/2023 17:27:41] \"POST /predict HTTP/1.1\" 200 -\n"
     ]
    },
    {
     "name": "stdout",
     "output_type": "stream",
     "text": [
      "{'city': 'Amaravati', 'PM25': '495', 'PM10': '33', 'NO': '2', 'NO2': '33', 'NOx': '33', 'NH3': '33', 'CO': '34', 'SO2': '22', 'O3': '28', 'Benzene': '88', 'Toluene': '999', 'Xylene': '87'}\n",
      "        city PM25 PM10 NO NO2 NOx NH3  CO SO2  O3 Benzene Toluene Xylene\n",
      "0  Amaravati  495   33  2  33  33  33  34  22  28      88     999     87\n",
      "Aqi value is this 376.8507295470159\n"
     ]
    },
    {
     "name": "stderr",
     "output_type": "stream",
     "text": [
      "127.0.0.1 - - [01/Sep/2023 17:40:00] \"OPTIONS /predict HTTP/1.1\" 200 -\n",
      "127.0.0.1 - - [01/Sep/2023 17:40:00] \"POST /predict HTTP/1.1\" 200 -\n"
     ]
    },
    {
     "name": "stdout",
     "output_type": "stream",
     "text": [
      "{'city': 'Amaravati', 'PM25': '495', 'PM10': '2000', 'NO': '77', 'NO2': '99', 'NOx': '883', 'NH3': '44', 'CO': '33', 'SO2': '444', 'O3': '33', 'Benzene': '333', 'Toluene': '33', 'Xylene': '333'}\n",
      "        city PM25  PM10  NO NO2  NOx NH3  CO  SO2  O3 Benzene Toluene Xylene\n",
      "0  Amaravati  495  2000  77  99  883  44  33  444  33     333      33    333\n",
      "Aqi value is this 762.4561614873477\n"
     ]
    },
    {
     "name": "stderr",
     "output_type": "stream",
     "text": [
      "127.0.0.1 - - [01/Sep/2023 17:40:48] \"OPTIONS /predict HTTP/1.1\" 200 -\n",
      "127.0.0.1 - - [01/Sep/2023 17:40:48] \"POST /predict HTTP/1.1\" 200 -\n"
     ]
    },
    {
     "name": "stdout",
     "output_type": "stream",
     "text": [
      "{'city': 'Bengaluru', 'PM25': '495', 'PM10': '33', 'NO': '33', 'NO2': '99', 'NOx': '883', 'NH3': '33', 'CO': '34', 'SO2': '444', 'O3': '28', 'Benzene': '333', 'Toluene': '999', 'Xylene': '333'}\n",
      "        city PM25 PM10  NO NO2  NOx NH3  CO  SO2  O3 Benzene Toluene Xylene\n",
      "0  Bengaluru  495   33  33  99  883  33  34  444  28     333     999    333\n",
      "Aqi value is this 410.0336327589562\n"
     ]
    },
    {
     "name": "stderr",
     "output_type": "stream",
     "text": [
      "127.0.0.1 - - [01/Sep/2023 17:58:51] \"OPTIONS /predict HTTP/1.1\" 200 -\n",
      "127.0.0.1 - - [01/Sep/2023 17:58:51] \"POST /predict HTTP/1.1\" 200 -\n"
     ]
    },
    {
     "name": "stdout",
     "output_type": "stream",
     "text": [
      "{'city': 'Amaravati', 'PM25': '495', 'PM10': '33', 'NO': '28', 'NO2': '2', 'NOx': '33', 'NH3': '44', 'CO': '33', 'SO2': '444', 'O3': '28', 'Benzene': '88', 'Toluene': '33', 'Xylene': '87'}\n",
      "        city PM25 PM10  NO NO2 NOx NH3  CO  SO2  O3 Benzene Toluene Xylene\n",
      "0  Amaravati  495   33  28   2  33  44  33  444  28      88      33     87\n",
      "Aqi value is this 450.74499561775406\n"
     ]
    },
    {
     "name": "stderr",
     "output_type": "stream",
     "text": [
      "127.0.0.1 - - [01/Sep/2023 17:58:53] \"POST /predict HTTP/1.1\" 200 -\n"
     ]
    },
    {
     "name": "stdout",
     "output_type": "stream",
     "text": [
      "{'city': 'Amaravati', 'PM25': '495', 'PM10': '33', 'NO': '28', 'NO2': '2', 'NOx': '33', 'NH3': '44', 'CO': '33', 'SO2': '444', 'O3': '28', 'Benzene': '88', 'Toluene': '33', 'Xylene': '87'}\n",
      "        city PM25 PM10  NO NO2 NOx NH3  CO  SO2  O3 Benzene Toluene Xylene\n",
      "0  Amaravati  495   33  28   2  33  44  33  444  28      88      33     87\n",
      "Aqi value is this 450.74499561775406\n"
     ]
    },
    {
     "name": "stderr",
     "output_type": "stream",
     "text": [
      "127.0.0.1 - - [01/Sep/2023 17:59:02] \"OPTIONS /predict HTTP/1.1\" 200 -\n",
      "127.0.0.1 - - [01/Sep/2023 17:59:02] \"POST /predict HTTP/1.1\" 200 -\n"
     ]
    },
    {
     "name": "stdout",
     "output_type": "stream",
     "text": [
      "{'city': 'Amaravati', 'PM25': '495', 'PM10': '33', 'NO': '28', 'NO2': '2', 'NOx': '33', 'NH3': '44', 'CO': '33', 'SO2': '444', 'O3': '28', 'Benzene': '88', 'Toluene': '33', 'Xylene': '87'}\n",
      "        city PM25 PM10  NO NO2 NOx NH3  CO  SO2  O3 Benzene Toluene Xylene\n",
      "0  Amaravati  495   33  28   2  33  44  33  444  28      88      33     87\n",
      "Aqi value is this 450.74499561775406\n"
     ]
    },
    {
     "name": "stderr",
     "output_type": "stream",
     "text": [
      "127.0.0.1 - - [01/Sep/2023 18:02:38] \"OPTIONS /predict HTTP/1.1\" 200 -\n"
     ]
    },
    {
     "name": "stdout",
     "output_type": "stream",
     "text": [
      "{'city': '', 'PM25': '495', 'PM10': '33', 'NO': '28', 'NO2': '33', 'NOx': '883', 'NH3': '44', 'CO': '33', 'SO2': '2', 'O3': '2', 'Benzene': '88', 'Toluene': '999', 'Xylene': '333'}\n",
      "  city PM25 PM10  NO NO2  NOx NH3  CO SO2 O3 Benzene Toluene Xylene\n",
      "0       495   33  28  33  883  44  33   2  2      88     999    333\n"
     ]
    },
    {
     "name": "stderr",
     "output_type": "stream",
     "text": [
      "127.0.0.1 - - [01/Sep/2023 18:02:38] \"POST /predict HTTP/1.1\" 500 -\n",
      "Traceback (most recent call last):\n",
      "  File \"C:\\New folder\\Lib\\site-packages\\flask\\app.py\", line 2091, in __call__\n",
      "    return self.wsgi_app(environ, start_response)\n",
      "  File \"C:\\New folder\\Lib\\site-packages\\flask\\app.py\", line 2076, in wsgi_app\n",
      "    response = self.handle_exception(e)\n",
      "  File \"C:\\New folder\\Lib\\site-packages\\flask_cors\\extension.py\", line 176, in wrapped_function\n",
      "    return cors_after_request(app.make_response(f(*args, **kwargs)))\n",
      "  File \"C:\\New folder\\Lib\\site-packages\\flask\\app.py\", line 2073, in wsgi_app\n",
      "    response = self.full_dispatch_request()\n",
      "  File \"C:\\New folder\\Lib\\site-packages\\flask\\app.py\", line 1518, in full_dispatch_request\n",
      "    rv = self.handle_user_exception(e)\n",
      "  File \"C:\\New folder\\Lib\\site-packages\\flask_cors\\extension.py\", line 176, in wrapped_function\n",
      "    return cors_after_request(app.make_response(f(*args, **kwargs)))\n",
      "  File \"C:\\New folder\\Lib\\site-packages\\flask\\app.py\", line 1516, in full_dispatch_request\n",
      "    rv = self.dispatch_request()\n",
      "  File \"C:\\New folder\\Lib\\site-packages\\flask\\app.py\", line 1502, in dispatch_request\n",
      "    return self.ensure_sync(self.view_functions[rule.endpoint])(**req.view_args)\n",
      "  File \"C:\\New folder\\Lib\\site-packages\\flask_cors\\decorator.py\", line 130, in wrapped_function\n",
      "    resp = make_response(f(*args, **kwargs))\n",
      "  File \"C:\\Users\\KIIT\\AppData\\Local\\Temp\\ipykernel_10224\\2428368121.py\", line 16, in predictoap\n",
      "    \n",
      "  File \"C:\\Users\\KIIT\\Downloads\\major\\SmartModel.py\", line 52, in predict\n",
      "    city_index = city_map[df['city'].iloc[0]]\n",
      "KeyError: ''\n",
      "127.0.0.1 - - [01/Sep/2023 18:02:41] \"POST /predict HTTP/1.1\" 500 -\n"
     ]
    },
    {
     "name": "stdout",
     "output_type": "stream",
     "text": [
      "{'city': '', 'PM25': '495', 'PM10': '33', 'NO': '28', 'NO2': '33', 'NOx': '883', 'NH3': '44', 'CO': '33', 'SO2': '2', 'O3': '2', 'Benzene': '88', 'Toluene': '999', 'Xylene': '333'}\n",
      "  city PM25 PM10  NO NO2  NOx NH3  CO SO2 O3 Benzene Toluene Xylene\n",
      "0       495   33  28  33  883  44  33   2  2      88     999    333\n"
     ]
    },
    {
     "name": "stderr",
     "output_type": "stream",
     "text": [
      "Traceback (most recent call last):\n",
      "  File \"C:\\New folder\\Lib\\site-packages\\flask\\app.py\", line 2091, in __call__\n",
      "    return self.wsgi_app(environ, start_response)\n",
      "  File \"C:\\New folder\\Lib\\site-packages\\flask\\app.py\", line 2076, in wsgi_app\n",
      "    response = self.handle_exception(e)\n",
      "  File \"C:\\New folder\\Lib\\site-packages\\flask_cors\\extension.py\", line 176, in wrapped_function\n",
      "    return cors_after_request(app.make_response(f(*args, **kwargs)))\n",
      "  File \"C:\\New folder\\Lib\\site-packages\\flask\\app.py\", line 2073, in wsgi_app\n",
      "    response = self.full_dispatch_request()\n",
      "  File \"C:\\New folder\\Lib\\site-packages\\flask\\app.py\", line 1518, in full_dispatch_request\n",
      "    rv = self.handle_user_exception(e)\n",
      "  File \"C:\\New folder\\Lib\\site-packages\\flask_cors\\extension.py\", line 176, in wrapped_function\n",
      "    return cors_after_request(app.make_response(f(*args, **kwargs)))\n",
      "  File \"C:\\New folder\\Lib\\site-packages\\flask\\app.py\", line 1516, in full_dispatch_request\n",
      "    rv = self.dispatch_request()\n",
      "  File \"C:\\New folder\\Lib\\site-packages\\flask\\app.py\", line 1502, in dispatch_request\n",
      "    return self.ensure_sync(self.view_functions[rule.endpoint])(**req.view_args)\n",
      "  File \"C:\\New folder\\Lib\\site-packages\\flask_cors\\decorator.py\", line 130, in wrapped_function\n",
      "    resp = make_response(f(*args, **kwargs))\n",
      "  File \"C:\\Users\\KIIT\\AppData\\Local\\Temp\\ipykernel_10224\\2428368121.py\", line 16, in predictoap\n",
      "    \n",
      "  File \"C:\\Users\\KIIT\\Downloads\\major\\SmartModel.py\", line 52, in predict\n",
      "    city_index = city_map[df['city'].iloc[0]]\n",
      "KeyError: ''\n",
      "127.0.0.1 - - [01/Sep/2023 18:02:42] \"POST /predict HTTP/1.1\" 500 -\n"
     ]
    },
    {
     "name": "stdout",
     "output_type": "stream",
     "text": [
      "{'city': '', 'PM25': '495', 'PM10': '33', 'NO': '28', 'NO2': '33', 'NOx': '883', 'NH3': '44', 'CO': '33', 'SO2': '2', 'O3': '2', 'Benzene': '88', 'Toluene': '999', 'Xylene': '333'}\n",
      "  city PM25 PM10  NO NO2  NOx NH3  CO SO2 O3 Benzene Toluene Xylene\n",
      "0       495   33  28  33  883  44  33   2  2      88     999    333\n"
     ]
    },
    {
     "name": "stderr",
     "output_type": "stream",
     "text": [
      "Traceback (most recent call last):\n",
      "  File \"C:\\New folder\\Lib\\site-packages\\flask\\app.py\", line 2091, in __call__\n",
      "    return self.wsgi_app(environ, start_response)\n",
      "  File \"C:\\New folder\\Lib\\site-packages\\flask\\app.py\", line 2076, in wsgi_app\n",
      "    response = self.handle_exception(e)\n",
      "  File \"C:\\New folder\\Lib\\site-packages\\flask_cors\\extension.py\", line 176, in wrapped_function\n",
      "    return cors_after_request(app.make_response(f(*args, **kwargs)))\n",
      "  File \"C:\\New folder\\Lib\\site-packages\\flask\\app.py\", line 2073, in wsgi_app\n",
      "    response = self.full_dispatch_request()\n",
      "  File \"C:\\New folder\\Lib\\site-packages\\flask\\app.py\", line 1518, in full_dispatch_request\n",
      "    rv = self.handle_user_exception(e)\n",
      "  File \"C:\\New folder\\Lib\\site-packages\\flask_cors\\extension.py\", line 176, in wrapped_function\n",
      "    return cors_after_request(app.make_response(f(*args, **kwargs)))\n",
      "  File \"C:\\New folder\\Lib\\site-packages\\flask\\app.py\", line 1516, in full_dispatch_request\n",
      "    rv = self.dispatch_request()\n",
      "  File \"C:\\New folder\\Lib\\site-packages\\flask\\app.py\", line 1502, in dispatch_request\n",
      "    return self.ensure_sync(self.view_functions[rule.endpoint])(**req.view_args)\n",
      "  File \"C:\\New folder\\Lib\\site-packages\\flask_cors\\decorator.py\", line 130, in wrapped_function\n",
      "    resp = make_response(f(*args, **kwargs))\n",
      "  File \"C:\\Users\\KIIT\\AppData\\Local\\Temp\\ipykernel_10224\\2428368121.py\", line 16, in predictoap\n",
      "    \n",
      "  File \"C:\\Users\\KIIT\\Downloads\\major\\SmartModel.py\", line 52, in predict\n",
      "    city_index = city_map[df['city'].iloc[0]]\n",
      "KeyError: ''\n",
      "127.0.0.1 - - [01/Sep/2023 18:02:43] \"OPTIONS /predict HTTP/1.1\" 200 -\n",
      "127.0.0.1 - - [01/Sep/2023 18:02:43] \"POST /predict HTTP/1.1\" 500 -\n",
      "Traceback (most recent call last):\n",
      "  File \"C:\\New folder\\Lib\\site-packages\\flask\\app.py\", line 2091, in __call__\n",
      "    return self.wsgi_app(environ, start_response)\n",
      "  File \"C:\\New folder\\Lib\\site-packages\\flask\\app.py\", line 2076, in wsgi_app\n",
      "    response = self.handle_exception(e)\n",
      "  File \"C:\\New folder\\Lib\\site-packages\\flask_cors\\extension.py\", line 176, in wrapped_function\n",
      "    return cors_after_request(app.make_response(f(*args, **kwargs)))\n",
      "  File \"C:\\New folder\\Lib\\site-packages\\flask\\app.py\", line 2073, in wsgi_app\n",
      "    response = self.full_dispatch_request()\n",
      "  File \"C:\\New folder\\Lib\\site-packages\\flask\\app.py\", line 1518, in full_dispatch_request\n",
      "    rv = self.handle_user_exception(e)\n",
      "  File \"C:\\New folder\\Lib\\site-packages\\flask_cors\\extension.py\", line 176, in wrapped_function\n",
      "    return cors_after_request(app.make_response(f(*args, **kwargs)))\n",
      "  File \"C:\\New folder\\Lib\\site-packages\\flask\\app.py\", line 1516, in full_dispatch_request\n",
      "    rv = self.dispatch_request()\n",
      "  File \"C:\\New folder\\Lib\\site-packages\\flask\\app.py\", line 1502, in dispatch_request\n",
      "    return self.ensure_sync(self.view_functions[rule.endpoint])(**req.view_args)\n",
      "  File \"C:\\New folder\\Lib\\site-packages\\flask_cors\\decorator.py\", line 130, in wrapped_function\n",
      "    resp = make_response(f(*args, **kwargs))\n",
      "  File \"C:\\Users\\KIIT\\AppData\\Local\\Temp\\ipykernel_10224\\2428368121.py\", line 16, in predictoap\n",
      "    \n",
      "  File \"C:\\Users\\KIIT\\Downloads\\major\\SmartModel.py\", line 52, in predict\n",
      "    city_index = city_map[df['city'].iloc[0]]\n",
      "KeyError: ''\n"
     ]
    },
    {
     "name": "stdout",
     "output_type": "stream",
     "text": [
      "{'city': '', 'PM25': '495', 'PM10': '33', 'NO': '28', 'NO2': '33', 'NOx': '883', 'NH3': '44', 'CO': '33', 'SO2': '2', 'O3': '2', 'Benzene': '88', 'Toluene': '999', 'Xylene': '333'}\n",
      "  city PM25 PM10  NO NO2  NOx NH3  CO SO2 O3 Benzene Toluene Xylene\n",
      "0       495   33  28  33  883  44  33   2  2      88     999    333\n"
     ]
    },
    {
     "name": "stderr",
     "output_type": "stream",
     "text": [
      "127.0.0.1 - - [01/Sep/2023 18:02:54] \"OPTIONS /predict HTTP/1.1\" 200 -\n",
      "127.0.0.1 - - [01/Sep/2023 18:02:54] \"POST /predict HTTP/1.1\" 500 -\n",
      "Traceback (most recent call last):\n",
      "  File \"C:\\New folder\\Lib\\site-packages\\flask\\app.py\", line 2091, in __call__\n",
      "    return self.wsgi_app(environ, start_response)\n",
      "  File \"C:\\New folder\\Lib\\site-packages\\flask\\app.py\", line 2076, in wsgi_app\n",
      "    response = self.handle_exception(e)\n",
      "  File \"C:\\New folder\\Lib\\site-packages\\flask_cors\\extension.py\", line 176, in wrapped_function\n",
      "    return cors_after_request(app.make_response(f(*args, **kwargs)))\n",
      "  File \"C:\\New folder\\Lib\\site-packages\\flask\\app.py\", line 2073, in wsgi_app\n",
      "    response = self.full_dispatch_request()\n",
      "  File \"C:\\New folder\\Lib\\site-packages\\flask\\app.py\", line 1518, in full_dispatch_request\n",
      "    rv = self.handle_user_exception(e)\n",
      "  File \"C:\\New folder\\Lib\\site-packages\\flask_cors\\extension.py\", line 176, in wrapped_function\n",
      "    return cors_after_request(app.make_response(f(*args, **kwargs)))\n",
      "  File \"C:\\New folder\\Lib\\site-packages\\flask\\app.py\", line 1516, in full_dispatch_request\n",
      "    rv = self.dispatch_request()\n",
      "  File \"C:\\New folder\\Lib\\site-packages\\flask\\app.py\", line 1502, in dispatch_request\n",
      "    return self.ensure_sync(self.view_functions[rule.endpoint])(**req.view_args)\n",
      "  File \"C:\\New folder\\Lib\\site-packages\\flask_cors\\decorator.py\", line 130, in wrapped_function\n",
      "    resp = make_response(f(*args, **kwargs))\n",
      "  File \"C:\\Users\\KIIT\\AppData\\Local\\Temp\\ipykernel_10224\\2428368121.py\", line 16, in predictoap\n",
      "    \n",
      "  File \"C:\\Users\\KIIT\\Downloads\\major\\SmartModel.py\", line 52, in predict\n",
      "    city_index = city_map[df['city'].iloc[0]]\n",
      "KeyError: ''\n"
     ]
    },
    {
     "name": "stdout",
     "output_type": "stream",
     "text": [
      "{'city': '', 'PM25': '495', 'PM10': '33', 'NO': '28', 'NO2': '33', 'NOx': '883', 'NH3': '44', 'CO': '33', 'SO2': '2', 'O3': '2', 'Benzene': '88', 'Toluene': '999', 'Xylene': '333'}\n",
      "  city PM25 PM10  NO NO2  NOx NH3  CO SO2 O3 Benzene Toluene Xylene\n",
      "0       495   33  28  33  883  44  33   2  2      88     999    333\n"
     ]
    },
    {
     "name": "stderr",
     "output_type": "stream",
     "text": [
      "127.0.0.1 - - [01/Sep/2023 18:02:57] \"POST /predict HTTP/1.1\" 500 -\n"
     ]
    },
    {
     "name": "stdout",
     "output_type": "stream",
     "text": [
      "{'city': '', 'PM25': '495', 'PM10': '33', 'NO': '28', 'NO2': '33', 'NOx': '883', 'NH3': '44', 'CO': '33', 'SO2': '2', 'O3': '2', 'Benzene': '88', 'Toluene': '999', 'Xylene': '333'}\n",
      "  city PM25 PM10  NO NO2  NOx NH3  CO SO2 O3 Benzene Toluene Xylene\n",
      "0       495   33  28  33  883  44  33   2  2      88     999    333\n"
     ]
    },
    {
     "name": "stderr",
     "output_type": "stream",
     "text": [
      "Traceback (most recent call last):\n",
      "  File \"C:\\New folder\\Lib\\site-packages\\flask\\app.py\", line 2091, in __call__\n",
      "    return self.wsgi_app(environ, start_response)\n",
      "  File \"C:\\New folder\\Lib\\site-packages\\flask\\app.py\", line 2076, in wsgi_app\n",
      "    response = self.handle_exception(e)\n",
      "  File \"C:\\New folder\\Lib\\site-packages\\flask_cors\\extension.py\", line 176, in wrapped_function\n",
      "    return cors_after_request(app.make_response(f(*args, **kwargs)))\n",
      "  File \"C:\\New folder\\Lib\\site-packages\\flask\\app.py\", line 2073, in wsgi_app\n",
      "    response = self.full_dispatch_request()\n",
      "  File \"C:\\New folder\\Lib\\site-packages\\flask\\app.py\", line 1518, in full_dispatch_request\n",
      "    rv = self.handle_user_exception(e)\n",
      "  File \"C:\\New folder\\Lib\\site-packages\\flask_cors\\extension.py\", line 176, in wrapped_function\n",
      "    return cors_after_request(app.make_response(f(*args, **kwargs)))\n",
      "  File \"C:\\New folder\\Lib\\site-packages\\flask\\app.py\", line 1516, in full_dispatch_request\n",
      "    rv = self.dispatch_request()\n",
      "  File \"C:\\New folder\\Lib\\site-packages\\flask\\app.py\", line 1502, in dispatch_request\n",
      "    return self.ensure_sync(self.view_functions[rule.endpoint])(**req.view_args)\n",
      "  File \"C:\\New folder\\Lib\\site-packages\\flask_cors\\decorator.py\", line 130, in wrapped_function\n",
      "    resp = make_response(f(*args, **kwargs))\n",
      "  File \"C:\\Users\\KIIT\\AppData\\Local\\Temp\\ipykernel_10224\\2428368121.py\", line 16, in predictoap\n",
      "    \n",
      "  File \"C:\\Users\\KIIT\\Downloads\\major\\SmartModel.py\", line 52, in predict\n",
      "    city_index = city_map[df['city'].iloc[0]]\n",
      "KeyError: ''\n",
      "127.0.0.1 - - [01/Sep/2023 18:02:57] \"POST /predict HTTP/1.1\" 500 -\n"
     ]
    },
    {
     "name": "stdout",
     "output_type": "stream",
     "text": [
      "{'city': '', 'PM25': '495', 'PM10': '33', 'NO': '28', 'NO2': '33', 'NOx': '883', 'NH3': '44', 'CO': '33', 'SO2': '2', 'O3': '2', 'Benzene': '88', 'Toluene': '999', 'Xylene': '333'}\n",
      "  city PM25 PM10  NO NO2  NOx NH3  CO SO2 O3 Benzene Toluene Xylene\n",
      "0       495   33  28  33  883  44  33   2  2      88     999    333\n"
     ]
    },
    {
     "name": "stderr",
     "output_type": "stream",
     "text": [
      "Traceback (most recent call last):\n",
      "  File \"C:\\New folder\\Lib\\site-packages\\flask\\app.py\", line 2091, in __call__\n",
      "    return self.wsgi_app(environ, start_response)\n",
      "  File \"C:\\New folder\\Lib\\site-packages\\flask\\app.py\", line 2076, in wsgi_app\n",
      "    response = self.handle_exception(e)\n",
      "  File \"C:\\New folder\\Lib\\site-packages\\flask_cors\\extension.py\", line 176, in wrapped_function\n",
      "    return cors_after_request(app.make_response(f(*args, **kwargs)))\n",
      "  File \"C:\\New folder\\Lib\\site-packages\\flask\\app.py\", line 2073, in wsgi_app\n",
      "    response = self.full_dispatch_request()\n",
      "  File \"C:\\New folder\\Lib\\site-packages\\flask\\app.py\", line 1518, in full_dispatch_request\n",
      "    rv = self.handle_user_exception(e)\n",
      "  File \"C:\\New folder\\Lib\\site-packages\\flask_cors\\extension.py\", line 176, in wrapped_function\n",
      "    return cors_after_request(app.make_response(f(*args, **kwargs)))\n",
      "  File \"C:\\New folder\\Lib\\site-packages\\flask\\app.py\", line 1516, in full_dispatch_request\n",
      "    rv = self.dispatch_request()\n",
      "  File \"C:\\New folder\\Lib\\site-packages\\flask\\app.py\", line 1502, in dispatch_request\n",
      "    return self.ensure_sync(self.view_functions[rule.endpoint])(**req.view_args)\n",
      "  File \"C:\\New folder\\Lib\\site-packages\\flask_cors\\decorator.py\", line 130, in wrapped_function\n",
      "    resp = make_response(f(*args, **kwargs))\n",
      "  File \"C:\\Users\\KIIT\\AppData\\Local\\Temp\\ipykernel_10224\\2428368121.py\", line 16, in predictoap\n",
      "    \n",
      "  File \"C:\\Users\\KIIT\\Downloads\\major\\SmartModel.py\", line 52, in predict\n",
      "    city_index = city_map[df['city'].iloc[0]]\n",
      "KeyError: ''\n",
      "127.0.0.1 - - [01/Sep/2023 18:03:09] \"OPTIONS /predict HTTP/1.1\" 200 -\n",
      "127.0.0.1 - - [01/Sep/2023 18:03:09] \"POST /predict HTTP/1.1\" 500 -\n",
      "Traceback (most recent call last):\n",
      "  File \"C:\\New folder\\Lib\\site-packages\\flask\\app.py\", line 2091, in __call__\n",
      "    return self.wsgi_app(environ, start_response)\n",
      "  File \"C:\\New folder\\Lib\\site-packages\\flask\\app.py\", line 2076, in wsgi_app\n",
      "    response = self.handle_exception(e)\n",
      "  File \"C:\\New folder\\Lib\\site-packages\\flask_cors\\extension.py\", line 176, in wrapped_function\n",
      "    return cors_after_request(app.make_response(f(*args, **kwargs)))\n",
      "  File \"C:\\New folder\\Lib\\site-packages\\flask\\app.py\", line 2073, in wsgi_app\n",
      "    response = self.full_dispatch_request()\n",
      "  File \"C:\\New folder\\Lib\\site-packages\\flask\\app.py\", line 1518, in full_dispatch_request\n",
      "    rv = self.handle_user_exception(e)\n",
      "  File \"C:\\New folder\\Lib\\site-packages\\flask_cors\\extension.py\", line 176, in wrapped_function\n",
      "    return cors_after_request(app.make_response(f(*args, **kwargs)))\n",
      "  File \"C:\\New folder\\Lib\\site-packages\\flask\\app.py\", line 1516, in full_dispatch_request\n",
      "    rv = self.dispatch_request()\n",
      "  File \"C:\\New folder\\Lib\\site-packages\\flask\\app.py\", line 1502, in dispatch_request\n",
      "    return self.ensure_sync(self.view_functions[rule.endpoint])(**req.view_args)\n",
      "  File \"C:\\New folder\\Lib\\site-packages\\flask_cors\\decorator.py\", line 130, in wrapped_function\n",
      "    resp = make_response(f(*args, **kwargs))\n",
      "  File \"C:\\Users\\KIIT\\AppData\\Local\\Temp\\ipykernel_10224\\2428368121.py\", line 16, in predictoap\n",
      "    \n",
      "  File \"C:\\Users\\KIIT\\Downloads\\major\\SmartModel.py\", line 52, in predict\n",
      "    city_index = city_map[df['city'].iloc[0]]\n",
      "KeyError: ''\n"
     ]
    },
    {
     "name": "stdout",
     "output_type": "stream",
     "text": [
      "{'city': '', 'PM25': '495', 'PM10': '33', 'NO': '28', 'NO2': '33', 'NOx': '883', 'NH3': '44', 'CO': '33', 'SO2': '2', 'O3': '2', 'Benzene': '88', 'Toluene': '999', 'Xylene': '333'}\n",
      "  city PM25 PM10  NO NO2  NOx NH3  CO SO2 O3 Benzene Toluene Xylene\n",
      "0       495   33  28  33  883  44  33   2  2      88     999    333\n"
     ]
    },
    {
     "name": "stderr",
     "output_type": "stream",
     "text": [
      "127.0.0.1 - - [01/Sep/2023 18:03:35] \"OPTIONS /predict HTTP/1.1\" 200 -\n",
      "127.0.0.1 - - [01/Sep/2023 18:03:35] \"POST /predict HTTP/1.1\" 200 -\n"
     ]
    },
    {
     "name": "stdout",
     "output_type": "stream",
     "text": [
      "{'city': 'Amritsar', 'PM25': '495', 'PM10': '33', 'NO': '33', 'NO2': '99', 'NOx': '2', 'NH3': '44', 'CO': '33', 'SO2': '444', 'O3': '33', 'Benzene': '333', 'Toluene': '999', 'Xylene': '333'}\n",
      "       city PM25 PM10  NO NO2 NOx NH3  CO  SO2  O3 Benzene Toluene Xylene\n",
      "0  Amritsar  495   33  33  99   2  44  33  444  33     333     999    333\n",
      "Aqi value is this 366.968888053828\n"
     ]
    },
    {
     "name": "stderr",
     "output_type": "stream",
     "text": [
      "127.0.0.1 - - [01/Sep/2023 18:22:21] \"OPTIONS /predict HTTP/1.1\" 200 -\n",
      "127.0.0.1 - - [01/Sep/2023 18:22:21] \"POST /predict HTTP/1.1\" 200 -\n"
     ]
    },
    {
     "name": "stdout",
     "output_type": "stream",
     "text": [
      "{'city': 'Amritsar', 'PM25': '495', 'PM10': '33', 'NO': '33', 'NO2': '99', 'NOx': '2', 'NH3': '44', 'CO': '33', 'SO2': '444', 'O3': '33', 'Benzene': '333', 'Toluene': '999', 'Xylene': '333'}\n",
      "       city PM25 PM10  NO NO2 NOx NH3  CO  SO2  O3 Benzene Toluene Xylene\n",
      "0  Amritsar  495   33  33  99   2  44  33  444  33     333     999    333\n",
      "Aqi value is this 366.968888053828\n"
     ]
    },
    {
     "name": "stderr",
     "output_type": "stream",
     "text": [
      "127.0.0.1 - - [01/Sep/2023 18:40:45] \"OPTIONS /predict HTTP/1.1\" 200 -\n",
      "127.0.0.1 - - [01/Sep/2023 18:40:45] \"POST /predict HTTP/1.1\" 200 -\n"
     ]
    },
    {
     "name": "stdout",
     "output_type": "stream",
     "text": [
      "{'city': 'Amritsar', 'PM25': '495', 'PM10': '33', 'NO': '33', 'NO2': '99', 'NOx': '2', 'NH3': '44', 'CO': '33', 'SO2': '444', 'O3': '33', 'Benzene': '333', 'Toluene': '999', 'Xylene': '333'}\n",
      "       city PM25 PM10  NO NO2 NOx NH3  CO  SO2  O3 Benzene Toluene Xylene\n",
      "0  Amritsar  495   33  33  99   2  44  33  444  33     333     999    333\n",
      "Aqi value is this 366.968888053828\n"
     ]
    },
    {
     "name": "stderr",
     "output_type": "stream",
     "text": [
      "127.0.0.1 - - [01/Sep/2023 18:42:52] \"OPTIONS /predict HTTP/1.1\" 200 -\n",
      "127.0.0.1 - - [01/Sep/2023 18:42:52] \"POST /predict HTTP/1.1\" 200 -\n"
     ]
    },
    {
     "name": "stdout",
     "output_type": "stream",
     "text": [
      "{'city': 'Amritsar', 'PM25': '495', 'PM10': '33', 'NO': '33', 'NO2': '99', 'NOx': '2', 'NH3': '44', 'CO': '33', 'SO2': '444', 'O3': '33', 'Benzene': '333', 'Toluene': '999', 'Xylene': '333'}\n",
      "       city PM25 PM10  NO NO2 NOx NH3  CO  SO2  O3 Benzene Toluene Xylene\n",
      "0  Amritsar  495   33  33  99   2  44  33  444  33     333     999    333\n",
      "Aqi value is this 366.968888053828\n"
     ]
    },
    {
     "name": "stderr",
     "output_type": "stream",
     "text": [
      "127.0.0.1 - - [01/Sep/2023 18:42:55] \"POST /predict HTTP/1.1\" 200 -\n"
     ]
    },
    {
     "name": "stdout",
     "output_type": "stream",
     "text": [
      "{'city': 'Amritsar', 'PM25': '495', 'PM10': '33', 'NO': '33', 'NO2': '99', 'NOx': '2', 'NH3': '44', 'CO': '33', 'SO2': '444', 'O3': '33', 'Benzene': '333', 'Toluene': '999', 'Xylene': '333'}\n",
      "       city PM25 PM10  NO NO2 NOx NH3  CO  SO2  O3 Benzene Toluene Xylene\n",
      "0  Amritsar  495   33  33  99   2  44  33  444  33     333     999    333\n",
      "Aqi value is this 366.968888053828\n"
     ]
    },
    {
     "name": "stderr",
     "output_type": "stream",
     "text": [
      "127.0.0.1 - - [01/Sep/2023 18:42:55] \"POST /predict HTTP/1.1\" 200 -\n"
     ]
    },
    {
     "name": "stdout",
     "output_type": "stream",
     "text": [
      "{'city': 'Amritsar', 'PM25': '495', 'PM10': '33', 'NO': '33', 'NO2': '99', 'NOx': '2', 'NH3': '44', 'CO': '33', 'SO2': '444', 'O3': '33', 'Benzene': '333', 'Toluene': '999', 'Xylene': '333'}\n",
      "       city PM25 PM10  NO NO2 NOx NH3  CO  SO2  O3 Benzene Toluene Xylene\n",
      "0  Amritsar  495   33  33  99   2  44  33  444  33     333     999    333\n",
      "Aqi value is this 366.968888053828\n"
     ]
    },
    {
     "name": "stderr",
     "output_type": "stream",
     "text": [
      "127.0.0.1 - - [01/Sep/2023 18:42:55] \"POST /predict HTTP/1.1\" 200 -\n"
     ]
    },
    {
     "name": "stdout",
     "output_type": "stream",
     "text": [
      "{'city': 'Amritsar', 'PM25': '495', 'PM10': '33', 'NO': '33', 'NO2': '99', 'NOx': '2', 'NH3': '44', 'CO': '33', 'SO2': '444', 'O3': '33', 'Benzene': '333', 'Toluene': '999', 'Xylene': '333'}\n",
      "       city PM25 PM10  NO NO2 NOx NH3  CO  SO2  O3 Benzene Toluene Xylene\n",
      "0  Amritsar  495   33  33  99   2  44  33  444  33     333     999    333\n",
      "Aqi value is this 366.968888053828\n"
     ]
    },
    {
     "name": "stderr",
     "output_type": "stream",
     "text": [
      "127.0.0.1 - - [01/Sep/2023 18:47:47] \"OPTIONS /predict HTTP/1.1\" 200 -\n",
      "127.0.0.1 - - [01/Sep/2023 18:47:47] \"POST /predict HTTP/1.1\" 200 -\n"
     ]
    },
    {
     "name": "stdout",
     "output_type": "stream",
     "text": [
      "{'city': 'Ahmedabad', 'PM25': '495', 'PM10': '33', 'NO': '33', 'NO2': '99', 'NOx': '883', 'NH3': '22', 'CO': '33', 'SO2': '33', 'O3': '33', 'Benzene': '333', 'Toluene': '33', 'Xylene': '333'}\n",
      "        city PM25 PM10  NO NO2  NOx NH3  CO SO2  O3 Benzene Toluene Xylene\n",
      "0  Ahmedabad  495   33  33  99  883  22  33  33  33     333      33    333\n",
      "Aqi value is this 498.7917199229219\n"
     ]
    },
    {
     "name": "stderr",
     "output_type": "stream",
     "text": [
      "127.0.0.1 - - [01/Sep/2023 18:50:04] \"OPTIONS /predict HTTP/1.1\" 200 -\n",
      "127.0.0.1 - - [01/Sep/2023 18:50:04] \"POST /predict HTTP/1.1\" 200 -\n"
     ]
    },
    {
     "name": "stdout",
     "output_type": "stream",
     "text": [
      "{'city': 'Ahmedabad', 'PM25': '495', 'PM10': '33', 'NO': '33', 'NO2': '99', 'NOx': '883', 'NH3': '22', 'CO': '33', 'SO2': '33', 'O3': '33', 'Benzene': '333', 'Toluene': '33', 'Xylene': '333'}\n",
      "        city PM25 PM10  NO NO2  NOx NH3  CO SO2  O3 Benzene Toluene Xylene\n",
      "0  Ahmedabad  495   33  33  99  883  22  33  33  33     333      33    333\n",
      "Aqi value is this 498.7917199229219\n"
     ]
    },
    {
     "name": "stderr",
     "output_type": "stream",
     "text": [
      "127.0.0.1 - - [01/Sep/2023 18:50:09] \"POST /predict HTTP/1.1\" 200 -\n"
     ]
    },
    {
     "name": "stdout",
     "output_type": "stream",
     "text": [
      "{'city': 'Ahmedabad', 'PM25': '495', 'PM10': '33', 'NO': '33', 'NO2': '99', 'NOx': '883', 'NH3': '22', 'CO': '33', 'SO2': '33', 'O3': '33', 'Benzene': '333', 'Toluene': '33', 'Xylene': '333'}\n",
      "        city PM25 PM10  NO NO2  NOx NH3  CO SO2  O3 Benzene Toluene Xylene\n",
      "0  Ahmedabad  495   33  33  99  883  22  33  33  33     333      33    333\n",
      "Aqi value is this 498.7917199229219\n"
     ]
    },
    {
     "name": "stderr",
     "output_type": "stream",
     "text": [
      "127.0.0.1 - - [01/Sep/2023 19:33:39] \"OPTIONS /predict HTTP/1.1\" 200 -\n",
      "127.0.0.1 - - [01/Sep/2023 19:33:39] \"POST /predict HTTP/1.1\" 200 -\n"
     ]
    },
    {
     "name": "stdout",
     "output_type": "stream",
     "text": [
      "{'city': 'Aizawl', 'PM25': '495', 'PM10': '27', 'NO': '77', 'NO2': '99', 'NOx': '883', 'NH3': '44', 'CO': '34', 'SO2': '444', 'O3': '33', 'Benzene': '333', 'Toluene': '33', 'Xylene': '87'}\n",
      "     city PM25 PM10  NO NO2  NOx NH3  CO  SO2  O3 Benzene Toluene Xylene\n",
      "0  Aizawl  495   27  77  99  883  44  34  444  33     333      33     87\n",
      "Aqi value is this 571.1562379566674\n"
     ]
    },
    {
     "name": "stderr",
     "output_type": "stream",
     "text": [
      "127.0.0.1 - - [01/Sep/2023 19:40:14] \"OPTIONS /predict HTTP/1.1\" 200 -\n",
      "127.0.0.1 - - [01/Sep/2023 19:40:14] \"POST /predict HTTP/1.1\" 200 -\n"
     ]
    },
    {
     "name": "stdout",
     "output_type": "stream",
     "text": [
      "{'city': 'Aizawl', 'PM25': '495', 'PM10': '27', 'NO': '77', 'NO2': '99', 'NOx': '883', 'NH3': '44', 'CO': '34', 'SO2': '444', 'O3': '33', 'Benzene': '333', 'Toluene': '33', 'Xylene': '87'}\n",
      "     city PM25 PM10  NO NO2  NOx NH3  CO  SO2  O3 Benzene Toluene Xylene\n",
      "0  Aizawl  495   27  77  99  883  44  34  444  33     333      33     87\n",
      "Aqi value is this 571.1562379566674\n"
     ]
    },
    {
     "name": "stderr",
     "output_type": "stream",
     "text": [
      "127.0.0.1 - - [01/Sep/2023 19:40:17] \"POST /predict HTTP/1.1\" 200 -\n"
     ]
    },
    {
     "name": "stdout",
     "output_type": "stream",
     "text": [
      "{'city': 'Aizawl', 'PM25': '495', 'PM10': '27', 'NO': '77', 'NO2': '99', 'NOx': '883', 'NH3': '44', 'CO': '34', 'SO2': '444', 'O3': '33', 'Benzene': '333', 'Toluene': '33', 'Xylene': '87'}\n",
      "     city PM25 PM10  NO NO2  NOx NH3  CO  SO2  O3 Benzene Toluene Xylene\n",
      "0  Aizawl  495   27  77  99  883  44  34  444  33     333      33     87\n",
      "Aqi value is this 571.1562379566674\n"
     ]
    }
   ],
   "source": [
    "from flask import Flask,jsonify, request\n",
    "from flask_cors import CORS, cross_origin\n",
    "import SmartModel\n",
    "import pandas as pd\n",
    "app = Flask (__name__)\n",
    "CORS(app)\n",
    "app.config['CORS_HEADERS'] = 'application/json'\n",
    "\n",
    "@app.route(\"/predict\", methods=[\"POST\"]) \n",
    "@cross_origin (supports_credentials=True) \n",
    "def predictoap():\n",
    "    data = request.get_json()\n",
    "    print(data)\n",
    "    cust_df=pd.DataFrame([data])\n",
    "    print(cust_df)\n",
    "    return jsonify (SmartModel.predict(cust_df))\n",
    "\n",
    "if __name__ == '__main__':\n",
    "    app.run(debug=True, use_reloader=False)"
   ]
  },
  {
   "cell_type": "code",
   "execution_count": null,
   "id": "9d276aa7",
   "metadata": {},
   "outputs": [],
   "source": []
  },
  {
   "cell_type": "code",
   "execution_count": null,
   "id": "456a4e4e",
   "metadata": {},
   "outputs": [],
   "source": []
  }
 ],
 "metadata": {
  "kernelspec": {
   "display_name": "Python 3 (ipykernel)",
   "language": "python",
   "name": "python3"
  },
  "language_info": {
   "codemirror_mode": {
    "name": "ipython",
    "version": 3
   },
   "file_extension": ".py",
   "mimetype": "text/x-python",
   "name": "python",
   "nbconvert_exporter": "python",
   "pygments_lexer": "ipython3",
   "version": "3.10.2"
  }
 },
 "nbformat": 4,
 "nbformat_minor": 5
}
